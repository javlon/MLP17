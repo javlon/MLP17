{
 "cells": [
  {
   "cell_type": "code",
   "execution_count": null,
   "metadata": {
    "collapsed": true,
    "scrolled": true
   },
   "outputs": [],
   "source": [
    "import numpy as np\n",
    "import tensorflow as tf\n",
    "import math\n",
    "from scipy.special import expit\n",
    "from scipy.stats import norm\n",
    "import sklearn.metrics\n",
    "\n",
    "import matplotlib.pyplot as plt"
   ]
  },
  {
   "cell_type": "markdown",
   "metadata": {},
   "source": [
    "## Loading data"
   ]
  },
  {
   "cell_type": "code",
   "execution_count": 2,
   "metadata": {
    "scrolled": true
   },
   "outputs": [
    {
     "data": {
      "text/plain": [
       "(100000, 12320)"
      ]
     },
     "execution_count": 2,
     "metadata": {},
     "output_type": "execute_result"
    }
   ],
   "source": [
    "data = np.load(\"data.npy\")\n",
    "data.shape"
   ]
  },
  {
   "cell_type": "markdown",
   "metadata": {},
   "source": [
    "## Shuffling and split on train and test"
   ]
  },
  {
   "cell_type": "code",
   "execution_count": 3,
   "metadata": {
    "scrolled": true
   },
   "outputs": [
    {
     "name": "stdout",
     "output_type": "stream",
     "text": [
      "Train: (70000, 12320)\n",
      "Test: (30000, 12320)\n"
     ]
    }
   ],
   "source": [
    "np.random.shuffle(data)\n",
    "thres = round(len(data) * 0.7)\n",
    "\n",
    "train = data[:thres]\n",
    "test = data[thres:]\n",
    "\n",
    "print(\"Train: \" + str(train.shape))\n",
    "print(\"Test: \" + str(test.shape))"
   ]
  },
  {
   "cell_type": "markdown",
   "metadata": {},
   "source": [
    "## Separating features from labels"
   ]
  },
  {
   "cell_type": "code",
   "execution_count": 4,
   "metadata": {
    "scrolled": true
   },
   "outputs": [
    {
     "name": "stdout",
     "output_type": "stream",
     "text": [
      "Number of landmark genes: 970\n",
      "Number of non-landmark genes: 11350\n"
     ]
    }
   ],
   "source": [
    "landmark_genes = 970\n",
    "lset = list(range(landmark_genes))\n",
    "nlset = list(range(landmark_genes, data.shape[1]))\n",
    "print(\"Number of landmark genes: \" + str(len(lset)))\n",
    "print(\"Number of non-landmark genes: \" + str(len(nlset)))"
   ]
  },
  {
   "cell_type": "code",
   "execution_count": 5,
   "metadata": {
    "scrolled": true
   },
   "outputs": [
    {
     "name": "stdout",
     "output_type": "stream",
     "text": [
      "Features shape: (70000, 970)\n",
      "Output shape(70000, 11350)\n"
     ]
    }
   ],
   "source": [
    "train = (train[:, lset], train[:, nlset])\n",
    "test = (test[:, lset], test[:, nlset])\n",
    "data = None\n",
    "print(\"Features shape: \" + str(train[0].shape))\n",
    "print(\"Output shape\" + str(train[1].shape))"
   ]
  },
  {
   "cell_type": "markdown",
   "metadata": {},
   "source": [
    "### Multilayer perceptron\n",
    "\n",
    "Some features of the implementation:\n",
    "* Adam's variation of stochastic gradient descent\n",
    "* Using minibatches to speed up convergence and avoid performance issues\n",
    "* Output layer without activation\n",
    "* Stops if validation score isn't improving \n",
    "* L2 regularization"
   ]
  },
  {
   "cell_type": "code",
   "execution_count": 40,
   "metadata": {
    "collapsed": true,
    "scrolled": true
   },
   "outputs": [],
   "source": [
    "def split(X, k):\n",
    "    return np.split(range(len(X)), [i * k for i in range(1, len(X) // k)])"
   ]
  },
  {
   "cell_type": "code",
   "execution_count": 62,
   "metadata": {
    "collapsed": true,
    "scrolled": true
   },
   "outputs": [],
   "source": [
    "class MLP:\n",
    "    eps = 1e-8\n",
    "    \n",
    "    def __init__(self, batchsize = 200, beta1 = 0.9, beta2 = 0.999, alpha = 0.0001, \n",
    "                 eta = 0.001,  structure = (), tol = 0.001):\n",
    "        self.batchsize = batchsize\n",
    "        self.beta1 = beta1\n",
    "        self.beta2 = beta2\n",
    "        self.alpha = alpha\n",
    "        self.structure = structure\n",
    "        self.tol = tol\n",
    "        self.eta = eta\n",
    "        \n",
    "    def permute(self):\n",
    "        permutation = np.random.permutation(len(self.X))\n",
    "        self.X = self.X[permutation]\n",
    "        self.Y = self.Y[permutation]\n",
    "        \n",
    "    def step(self):\n",
    "        f = lambda A: A * (1 - A)\n",
    "        self.permute()\n",
    "        k = self.batchsize\n",
    "        batches = split(self.X, k)\n",
    "        J = []\n",
    "        for b in batches:\n",
    "            A = self.predict_(self.X[b])\n",
    "            Y = self.Y[b]\n",
    "            X = self.X[b]\n",
    "            delta = [None] * len(self.W)\n",
    "            E = Y - A[-1]\n",
    "            delta[-1] = E\n",
    "            self.J.append((E ** 2).sum() / len(X))\n",
    "            # Computing local gradinents\n",
    "            for i in range(len(self.W) - 2, -1, -1):\n",
    "                if i == len(self.W) - 2:\n",
    "                    delta[i] = np.dot(delta[i + 1], self.W[i + 1].T) * f(A[i + 1])\n",
    "                else:\n",
    "                    delta[i] = np.dot(delta[i + 1][:, 1:], self.W[i + 1].T) * f(A[i + 1]) \n",
    "                \n",
    "            for i in range(len(self.W) - 1, -1, -1):\n",
    "                if i == len(self.W) - 1:\n",
    "                    grad = (np.dot(A[i].T, delta[i]) + self.alpha * self.W[i]) \n",
    "                else:\n",
    "                    grad = (np.dot(A[i].T, delta[i][:, 1:]) + self.alpha * self.W[i])\n",
    "                # Adam sgd\n",
    "                self.M[i] = self.beta1 * self.M[i] + (1 - self.beta1) * grad\n",
    "                self.V[i] = self.beta2 * self.V[i] + (1 - self.beta2) * (grad ** 2)\n",
    "                m = self.M[i] / (1 - self.beta1)\n",
    "                v = self.V[i] / (1 - self.beta2)\n",
    "                self.W[i] += (self.eta * m) / (np.sqrt(v) + self.eps)  \n",
    "            \n",
    "    def fit(self, X, Y, VX, VY):\n",
    "        self.J = [float('inf')]\n",
    "        self.X = X\n",
    "        self.Y = Y\n",
    "        s = (X.shape[1], *self.structure, Y.shape[1])\n",
    "        self.W, self.M, self.V = [], [], []\n",
    "        for i in range(len(s) - 1):\n",
    "            n = (s[i] + 1) * s[i + 1]\n",
    "            shape = (s[i] + 1, s[i + 1])\n",
    "            self.W.append(norm(0, 0.01).rvs(n).reshape(*shape))\n",
    "            self.M.append(np.zeros(n).reshape(*shape))            \n",
    "            self.V.append(np.zeros(n).reshape(*shape))\n",
    "        \n",
    "        VL = []\n",
    "        while True:\n",
    "            VL.append(((self.predict(VX) - VY) ** 2).sum() / len(VX))\n",
    "            if len(VL) > 2 and max(VL[-3] - VL[-1], VL[-3] - VL[-2]) < self.tol:\n",
    "                return\n",
    "            self.step()\n",
    "            \n",
    "    def steps(self, n):\n",
    "        for i in range(n):\n",
    "            self.step()\n",
    "        \n",
    "    def predict_(self, X):\n",
    "        f = expit\n",
    "        T = X\n",
    "        T = np.hstack((np.ones(len(T)).reshape(-1,1), T))\n",
    "        A = [T]\n",
    "        for i in range(len(self.W)):\n",
    "            layer = self.W[i]\n",
    "            T = np.dot(T, layer)\n",
    "            if i != len(self.W) - 1:\n",
    "                T = f(T)\n",
    "                T = np.hstack((np.ones(len(T)).reshape(-1,1), T))\n",
    "            A.append(T)\n",
    "        return A\n",
    "    \n",
    "    def predict(self, X):\n",
    "        return self.predict_(X)[-1]"
   ]
  },
  {
   "cell_type": "code",
   "execution_count": 57,
   "metadata": {
    "collapsed": true,
    "scrolled": true
   },
   "outputs": [],
   "source": [
    "X, Y, VX, VY = train[0], train[1][:, 0:1], test[0], test[1][:, 0:1]"
   ]
  },
  {
   "cell_type": "code",
   "execution_count": 25,
   "metadata": {
    "scrolled": true
   },
   "outputs": [
    {
     "name": "stdout",
     "output_type": "stream",
     "text": [
      "Test: 1.01419168314\n",
      "Test: 0.235727529272\n",
      "Test: 0.223475766805\n",
      "Test: 0.219329132728\n",
      "Test: 0.211287875136\n",
      "Test: 0.207911198907\n",
      "Test: 0.207650678073\n",
      "Test: 0.20116991265\n",
      "Test: 0.199839527678\n",
      "Test: 0.199130711847\n",
      "Test: 0.197749861764\n",
      "Test: 0.197894112962\n",
      "Test: 0.19736063411\n"
     ]
    }
   ],
   "source": [
    "mlp = MLP(structure = (500, 500))\n",
    "mlp.fit(X, Y, VX, VY)"
   ]
  },
  {
   "cell_type": "code",
   "execution_count": 31,
   "metadata": {
    "scrolled": true
   },
   "outputs": [
    {
     "data": {
      "image/png": "[encoded data removed]",
      "text/plain": [
       "<matplotlib.figure.Figure at 0x7f1d6f916908>"
      ]
     },
     "metadata": {},
     "output_type": "display_data"
    },
    {
     "data": {
      "text/plain": [
       "0.11517164752666492"
      ]
     },
     "execution_count": 31,
     "metadata": {},
     "output_type": "execute_result"
    }
   ],
   "source": [
    "plt.plot(mlp.J)\n",
    "plt.show()\n",
    "mlp.J[-1]"
   ]
  },
  {
   "cell_type": "markdown",
   "metadata": {},
   "source": [
    "### Ensemble method"
   ]
  },
  {
   "cell_type": "code",
   "execution_count": 94,
   "metadata": {
    "collapsed": true,
    "scrolled": true
   },
   "outputs": [],
   "source": [
    "class KFMLP:\n",
    "    def __init__(self, k, num):\n",
    "        self.k = k\n",
    "        self.num = num\n",
    "\n",
    "    def fit(self, rawX, rawY, args):\n",
    "        self.regs = []\n",
    "        for i in range(self.num): \n",
    "            permutation = np.random.permutation(len(rawX))\n",
    "            X = rawX[permutation]\n",
    "            Y = rawY[permutation]\n",
    "            batches = split(X, self.k)\n",
    "            n = len(batches)\n",
    "            for b in batches:\n",
    "                train = [*range(b[0]), *range(b[-1] + 1, len(X))]\n",
    "                valid = b\n",
    "                self.regs.append(MLP(**args))\n",
    "                self.regs[-1].fit(X[train], Y[train], X[valid], Y[valid])\n",
    "    \n",
    "    def predict(self, X):\n",
    "        return np.mean([reg.predict(X) for reg in self.regs], axis = 0)"
   ]
  },
  {
   "cell_type": "code",
   "execution_count": 96,
   "metadata": {
    "scrolled": true
   },
   "outputs": [
    {
     "name": "stdout",
     "output_type": "stream",
     "text": [
      "1.04807956086\tinf\n",
      "0.233615955011\t0.280396293088\n",
      "0.219746175153\t0.126150625207\n",
      "0.220150929035\t0.235186504731\n",
      "0.207847664631\t0.169616033487\n",
      "0.208020428619\t0.29535163147\n",
      "0.202908078502\t0.0955773916724\n",
      "0.20119900941\t0.111528677052\n",
      "0.205765799738\t0.127056322417\n",
      "0.196159390186\t0.114739085646\n",
      "0.193549003452\t0.232837316832\n",
      "0.194956047628\t0.121558138457\n",
      "0.194132716838\t0.132744156141\n",
      "1.06084490277\tinf\n",
      "0.239774627695\t0.227004538633\n",
      "0.214691790284\t0.143517261912\n",
      "0.211930973467\t0.194532691652\n",
      "0.208351349977\t0.172643126503\n",
      "0.203564804708\t0.114578977269\n",
      "0.200743656562\t0.149474961526\n",
      "0.19999124542\t0.127378241949\n",
      "0.201922724472\t0.137223719317\n",
      "0.997524106975\tinf\n",
      "0.236376897343\t0.248211352191\n",
      "0.216674844711\t0.150020240741\n",
      "0.207823398031\t0.150805488555\n",
      "0.2101415996\t0.188258176529\n",
      "0.2022542267\t0.13069198786\n",
      "0.198893695057\t0.139583018012\n",
      "0.203058771557\t0.193093427779\n",
      "0.194813567027\t0.169684946897\n",
      "0.195830207371\t0.124232877669\n",
      "0.195786045925\t0.143456472289\n",
      "1.07439481695\tinf\n",
      "0.23264745273\t0.583413141719\n",
      "0.216748965715\t0.258990729714\n",
      "0.218722004849\t0.165569620739\n",
      "0.210185090555\t0.317364227892\n",
      "0.211465690876\t0.136203163925\n",
      "0.205915819031\t0.145752191637\n",
      "0.200770365547\t0.162460400375\n",
      "0.203990056946\t0.132112815207\n",
      "0.202259594019\t0.100344941315\n",
      "0.956601982499\tinf\n",
      "0.229515338181\t0.235350174904\n",
      "0.224412573844\t0.180873243627\n",
      "0.208637056145\t0.115120000382\n",
      "0.209377421765\t0.13309746592\n",
      "0.202343332326\t0.123311503117\n",
      "0.204126018255\t0.142060141967\n",
      "0.199160897589\t0.125270245444\n",
      "0.202361692678\t0.102612374407\n",
      "0.201103234602\t0.142198186845\n",
      "0.99273184567\tinf\n",
      "0.235691239319\t0.156550253037\n",
      "0.219855568769\t0.223541679627\n",
      "0.211130780576\t0.183363042087\n",
      "0.205544959827\t0.193229655088\n",
      "0.206352654047\t0.16620735046\n",
      "0.202573294752\t0.135718078148\n",
      "0.200736918574\t0.124036173779\n",
      "0.200821836688\t0.0955383750247\n",
      "0.19673455472\t0.204409383395\n",
      "0.197915987823\t0.15861610106\n",
      "0.194321951786\t0.120194788015\n",
      "0.195147337092\t0.117387109065\n",
      "0.193422252178\t0.0783470841166\n",
      "0.968501073795\tinf\n",
      "0.228835872013\t0.158383970327\n",
      "0.223154312592\t0.134502442887\n",
      "0.214105617756\t0.139316501165\n",
      "0.208917084254\t0.155786539029\n",
      "0.214192990706\t0.134943781303\n",
      "0.205016864489\t0.130994717007\n",
      "0.207179285969\t0.195766701524\n",
      "0.209993114474\t0.172279487191\n",
      "0.95241363087\tinf\n",
      "0.246438535791\t0.103868014117\n",
      "0.230168884228\t0.236524712587\n",
      "0.225110783516\t0.196802750533\n",
      "0.22446019598\t0.0931689990152\n",
      "0.21816164294\t0.216151724821\n",
      "0.21532903548\t0.142354424395\n",
      "0.209274313917\t0.109902415072\n",
      "0.210102622211\t0.134465249234\n",
      "0.212572833346\t0.2309366391\n",
      "0.994402959358\tinf\n",
      "0.226570040008\t0.296085349277\n",
      "0.209812135646\t0.170504997415\n",
      "0.205410413345\t0.207708604366\n",
      "0.202790803635\t0.179567891464\n",
      "0.197108326326\t0.143567050078\n",
      "0.195506817748\t0.345387293709\n",
      "0.191375203542\t0.19511357089\n",
      "0.188288781498\t0.233779651698\n",
      "0.192560209687\t0.164810603294\n",
      "0.189455376969\t0.0911235234132\n",
      "1.07450831394\tinf\n",
      "0.239518514629\t0.348192209399\n",
      "0.22652834985\t0.168713663513\n",
      "0.215390754197\t0.163351658559\n",
      "0.211445327366\t0.137442319945\n",
      "0.20958834627\t0.137269735389\n",
      "0.210557265706\t0.150208307304\n",
      "0.205598176663\t0.133981277348\n",
      "0.204923218925\t0.108614407116\n",
      "0.20341009417\t0.14660138595\n",
      "0.204234686382\t0.115742096197\n",
      "0.20371379042\t0.10960856463\n",
      "1.06255848582\tinf\n",
      "0.210610424601\t0.217483066872\n",
      "0.192843141084\t0.241523455681\n",
      "0.189362556572\t0.234118538101\n",
      "0.186636152037\t0.237784693359\n",
      "0.183903723504\t0.126463349549\n",
      "0.179859219162\t0.135697483409\n",
      "0.17803944052\t0.112310664174\n",
      "0.17990801491\t0.0820660989557\n",
      "0.177093972136\t0.146117696103\n",
      "1.04192599933\tinf\n",
      "0.227070054748\t0.28051110784\n",
      "0.220087233413\t0.20626235163\n",
      "0.213165784412\t0.138262593103\n",
      "0.210169504514\t0.130486498768\n",
      "0.21041634617\t0.153491017087\n",
      "0.207112058731\t0.171381590717\n",
      "0.200336997409\t0.11661047061\n",
      "0.199414216618\t0.14234489899\n",
      "0.203094647131\t0.111166641762\n",
      "0.999685013666\tinf\n",
      "0.243789444064\t0.190974108572\n",
      "0.232525677929\t0.263910626396\n",
      "0.226869369261\t0.126242656603\n",
      "0.23937456632\t0.214090017855\n",
      "0.218737852132\t0.182379384134\n",
      "0.211233488741\t0.0952373532274\n",
      "0.214202759468\t0.138290544241\n",
      "0.20686719378\t0.133429639433\n",
      "0.207297464651\t0.159841896264\n",
      "0.209229271256\t0.115132262182\n",
      "0.963469677339\tinf\n",
      "0.234014506832\t0.168976267152\n",
      "0.231823959695\t0.218042837722\n",
      "0.222329598212\t0.162293437127\n",
      "0.219289768163\t0.211299890091\n",
      "0.21257212575\t0.153747872319\n",
      "0.213949848468\t0.153124932254\n",
      "0.209335397475\t0.114592519603\n",
      "0.210756773666\t0.211275666542\n",
      "0.21026728087\t0.132468392995\n",
      "1.07771215344\tinf\n",
      "0.239959463504\t0.2689386051\n",
      "0.222750678051\t0.261594648935\n",
      "0.221831719455\t0.224313140898\n",
      "0.215726180842\t0.195319563886\n",
      "0.209781927183\t0.130543554398\n",
      "0.2085975457\t0.179718343716\n",
      "0.205390597952\t0.169529872683\n",
      "0.202537210078\t0.127195999201\n",
      "0.201425298007\t0.134369514385\n",
      "0.200414801138\t0.0986287634126\n",
      "0.201199481117\t0.149265997007\n",
      "0.2030240525\t0.141717045161\n",
      "0.98049628492\tinf\n",
      "0.234611904213\t0.195940537725\n",
      "0.218066293776\t0.127048246122\n",
      "0.215867688948\t0.217589804255\n",
      "0.21212264848\t0.237298117442\n",
      "0.207575863202\t0.170011998616\n",
      "0.2066541429\t0.176695525778\n",
      "0.202538315751\t0.148992361031\n",
      "0.200239602527\t0.107480108666\n",
      "0.198866566611\t0.110575168404\n",
      "0.200026169205\t0.132576841317\n",
      "0.202125278023\t0.150686474655\n",
      "0.978208980587\tinf\n",
      "0.236244895467\t0.203306598768\n",
      "0.219358574407\t0.209319928902\n",
      "0.212374991324\t0.176887749259\n",
      "0.21770681373\t0.127458859906\n",
      "0.207485617775\t0.173568814227\n",
      "0.205136418025\t0.121044880579\n",
      "0.203152977593\t0.152021232519\n",
      "0.20124854575\t0.135967690229\n",
      "0.202587259811\t0.128902996231\n",
      "0.202974063656\t0.108657767091\n",
      "1.02567854681\tinf\n",
      "0.221240914157\t0.315421469044\n",
      "0.210449536097\t0.152333531511\n",
      "0.205002763985\t0.174683395519\n",
      "0.200219563805\t0.207016778212\n",
      "0.199479542075\t0.130741855676\n",
      "0.196607620731\t0.155918327766\n",
      "0.196699845862\t0.104564807862\n",
      "0.195324814668\t0.196396651461\n",
      "0.194946873497\t0.132727587734\n",
      "0.190064797789\t0.190164886227\n",
      "0.191286820147\t0.222817126477\n",
      "0.190616439213\t0.189680254176\n",
      "1.0313741329\tinf\n",
      "0.234057163244\t0.168203522883\n",
      "0.219223536996\t0.26063729818\n",
      "0.216264570514\t0.252362050062\n",
      "0.210925538371\t0.192907539899\n",
      "0.205171016467\t0.173664501063\n",
      "0.205405646828\t0.202011771533\n",
      "0.20424669939\t0.145265675342\n",
      "0.991917890199\tinf\n",
      "0.235978244481\t0.170535681696\n",
      "0.222277135386\t0.159580505568\n",
      "0.21754556539\t0.18867982145\n",
      "0.215717677397\t0.226863775708\n",
      "0.213869753912\t0.189051477769\n",
      "0.209870638425\t0.285934667972\n",
      "0.207266073184\t0.137453660738\n",
      "0.209081073485\t0.142885584888\n",
      "0.202106086192\t0.116683877641\n",
      "0.204120424494\t0.118679278275\n",
      "0.202060571785\t0.154083376403\n",
      "0.934810834753\tinf\n",
      "0.23478487097\t0.202901152816\n",
      "0.217122173201\t0.230737820641\n",
      "0.208512578252\t0.175955438735\n",
      "0.204434902063\t0.118653947639\n",
      "0.202534689805\t0.147259126573\n",
      "0.201275194412\t0.106259921531\n",
      "0.202205423699\t0.133092473305\n",
      "0.196637284152\t0.110878798074\n",
      "0.205164683003\t0.128927823917\n",
      "0.193598301454\t0.131343806376\n",
      "0.193884442569\t0.129492300657\n",
      "0.197469829279\t0.0807992452529\n"
     ]
    }
   ],
   "source": [
    "regressor = KFMLP(10000, 3)\n",
    "regressor.fit(X, Y, {'structure' : (500, 500)})"
   ]
  },
  {
   "cell_type": "code",
   "execution_count": 97,
   "metadata": {
    "scrolled": true
   },
   "outputs": [
    {
     "name": "stdout",
     "output_type": "stream",
     "text": [
      "Train: 0.118668045625\n",
      "Test: 0.193307963702\n"
     ]
    }
   ],
   "source": [
    "print('Train: ' + str(sklearn.metrics.mean_squared_error(Y, regressor.predict(X))))\n",
    "print('Test: ' + str(sklearn.metrics.mean_squared_error(VY, regressor.predict(VX))))"
   ]
  },
  {
   "cell_type": "markdown",
   "metadata": {},
   "source": [
    "### Regularization"
   ]
  },
  {
   "cell_type": "code",
   "execution_count": 102,
   "metadata": {},
   "outputs": [
    {
     "name": "stdout",
     "output_type": "stream",
     "text": [
      "1.0167907488\tinf\n",
      "0.233259973958\t0.28746199441\n",
      "0.220987870574\t0.235200378656\n",
      "0.213564791736\t0.173674678656\n",
      "0.208772663125\t0.187728518141\n",
      "0.207283022079\t0.157447126852\n",
      "0.203620508604\t0.187095091847\n",
      "0.202778775213\t0.161387512452\n",
      "0.197853540434\t0.110519335566\n",
      "0.198713327888\t0.111960944274\n",
      "0.19669026123\t0.116108093195\n",
      "0.19728110117\t0.134214324606\n",
      "0.19638305755\t0.106025749657\n"
     ]
    }
   ],
   "source": [
    "mlpalpha = MLP(structure = (500, 500), alpha=0.01)\n",
    "mlpalpha.fit(X, Y, VX, VY)"
   ]
  },
  {
   "cell_type": "code",
   "execution_count": 99,
   "metadata": {},
   "outputs": [
    {
     "name": "stdout",
     "output_type": "stream",
     "text": [
      "Train: 0.115652637595\n",
      "Test: 0.204945631984\n"
     ]
    }
   ],
   "source": [
    "print('Train: ' + str(sklearn.metrics.mean_squared_error(Y, mlpalpha.predict(X))))\n",
    "print('Test: ' + str(sklearn.metrics.mean_squared_error(VY, mlpalpha.predict(VX))))"
   ]
  },
  {
   "cell_type": "markdown",
   "metadata": {},
   "source": [
    "### Fewer neurons"
   ]
  },
  {
   "cell_type": "code",
   "execution_count": 101,
   "metadata": {},
   "outputs": [
    {
     "name": "stdout",
     "output_type": "stream",
     "text": [
      "1.00889639937\tinf\n",
      "0.294530237824\t0.308309779585\n",
      "0.250615236168\t0.290763705334\n",
      "0.23341996388\t0.251218636902\n",
      "0.224857479547\t0.196613418594\n",
      "0.220125805289\t0.179614811503\n",
      "0.219310453197\t0.12335551128\n",
      "0.219848721686\t0.173440925778\n"
     ]
    }
   ],
   "source": [
    "mlpalpha = MLP(structure = (50, 50), alpha=0.001)\n",
    "mlpalpha.fit(X, Y, VX, VY)"
   ]
  },
  {
   "cell_type": "code",
   "execution_count": null,
   "metadata": {
    "scrolled": true
   },
   "outputs": [
    {
     "name": "stdout",
     "output_type": "stream",
     "text": [
      "11400.5096572\tinf\n",
      "9548.042945\t10021.5727796\n",
      "8187.93673569\t7530.43734824\n",
      "7482.89367286\t7575.99404684\n",
      "6967.49662732\t7121.79861741\n",
      "6598.77708842\t7084.76749567\n",
      "6268.72555776\t6473.19050667\n",
      "6060.96506795\t5836.85952535\n",
      "5919.78022122\t5934.62141254\n",
      "5801.87151702\t6098.69569606\n",
      "5699.37630056\t6167.83054272\n",
      "5611.36400686\t5483.42608092\n",
      "5538.13696146\t5356.63659912\n",
      "5473.16061811\t5406.52108002\n",
      "5415.08717815\t5042.09114099\n",
      "5362.69793157\t5557.36768055\n",
      "5314.87825834\t5958.20948473\n",
      "5271.99935221\t5015.35915232\n",
      "5232.73167878\t5564.88482939\n",
      "5196.00892168\t5002.96227639\n",
      "5160.96224228\t5104.28397458\n",
      "5128.46115231\t5035.71188089\n",
      "5097.61808694\t5101.01258392\n",
      "5068.08202712\t5120.30651726\n",
      "5040.10524442\t4772.53153321\n",
      "5014.46083156\t4844.48786657\n",
      "4989.21221523\t4671.6349412\n",
      "4965.49295965\t5000.1825933\n",
      "4942.81689719\t4731.86383871\n",
      "4921.55238769\t4841.67709665\n",
      "4901.38930522\t4497.74617379\n",
      "4882.395308\t4546.97380254\n",
      "4864.26768865\t4734.05934125\n",
      "4846.59105318\t4873.71039413\n",
      "4830.00115238\t4829.24596278\n",
      "4813.94993014\t4823.69215533\n",
      "4799.13982812\t4638.84267746\n",
      "4784.88862465\t4600.04445759\n",
      "4771.07349989\t4870.51964241\n",
      "4758.3111598\t4784.83328081\n",
      "4746.23489175\t4715.37719424\n",
      "4734.50443682\t4519.48144902\n",
      "4723.10270151\t4472.96022527\n",
      "4712.22369544\t4434.03474428\n",
      "4702.34952794\t4877.19348332\n",
      "4692.09895468\t4775.98508616\n",
      "4681.93035489\t4846.01335122\n",
      "4672.96398634\t4676.77882259\n",
      "4663.85340012\t4570.85692281\n",
      "4654.57822828\t4891.04243737\n",
      "4646.09084138\t4384.66715145\n",
      "4638.17929378\t4436.74558664\n",
      "4629.65278298\t5034.26568688\n",
      "4622.76714674\t4610.16019526\n",
      "4614.89283993\t4929.88198489\n",
      "4607.38106911\t4516.71651772\n",
      "4600.5290073\t4726.35749179\n"
     ]
    }
   ],
   "source": [
    "mlp = MLP(structure=(100, 100), batchsize=500)\n",
    "mlp.fit(train[0], train[1], test[0], test[1])"
   ]
  },
  {
   "cell_type": "code",
   "execution_count": 106,
   "metadata": {},
   "outputs": [
    {
     "data": {
      "image/png": "[encoded data removed]",
      "text/plain": [
       "<matplotlib.figure.Figure at 0x7f1d6f911b00>"
      ]
     },
     "metadata": {},
     "output_type": "display_data"
    },
    {
     "data": {
      "text/plain": [
       "4720.5524544996906"
      ]
     },
     "execution_count": 106,
     "metadata": {},
     "output_type": "execute_result"
    }
   ],
   "source": [
    "plt.plot(mlp.J)\n",
    "plt.show()"
   ]
  }
 ],
 "metadata": {
  "kernelspec": {
   "display_name": "Python 3",
   "language": "python",
   "name": "python3"
  },
  "language_info": {
   "codemirror_mode": {
    "name": "ipython",
    "version": 3
   },
   "file_extension": ".py",
   "mimetype": "text/x-python",
   "name": "python",
   "nbconvert_exporter": "python",
   "pygments_lexer": "ipython3",
   "version": "3.5.2"
  }
 },
 "nbformat": 4,
 "nbformat_minor": 2
}
