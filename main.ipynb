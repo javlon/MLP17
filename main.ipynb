{
 "cells": [
  {
   "cell_type": "markdown",
   "metadata": {},
   "source": [
    "## Problem: Connectivity Map\n",
    "The Connectivity Map (CMap) is a Broad Institute project that enables the discovery of functional connections between drugs, genes and diseases through the generation and analysis of gene expression signatures (see the papers in Science and Nature Reviews Cancer). Recent technological advances and laboratory automation have enabled data generation scale-up resulting in a massive catalog of drug and gene signatures. When coupled with powerful pattern recognition algorithms, these data represent a rich reference library for the research community.\n",
    "\n",
    "### Problem Description\n",
    "* Every sample contains 12,320 gene expression levels that include 970 landmarks and 11,350 non-landmark genes.\n",
    "* Training dataset: 100,000 samples (~2GB data)\n",
    "* Testing dataset: 1,000 samples.\n",
    "* Problem: To build a model that uses the 970 landmark genes to predict the expression levels of non-landmark genes.\n",
    "\n",
    "[Link to the TC contest: Connectivity Map](https://community.topcoder.com/longcontest/?module=ViewProblemStatement&rd=16753&pm=14337)"
   ]
  },
  {
   "cell_type": "markdown",
   "metadata": {},
   "source": [
    "### Data Format\n",
    "* Data is provided as CSV files where the rows correspond to genes and the columns correspond to samples.\n",
    "* The matrix values are floating point numbers in the range 0.00 to 15.00.\n",
    "\n",
    "The first few rows and columns of one such file is shown below.\n",
    "\n",
    "6.85,4.78,7.83,8.37,4.57,10.91,14.55,8.24,6.23,8.43,10.14,8.21,8.15,7.29,13.07,9.86,9.86,5.44\n",
    "7.98,11.37,8.1,7.19,5.52,7.99,10.41,8.09,6.8,9.24,8.81,8.67,8.29,8.49,10.52,9.71,9,6.46,8.37,6.73\n",
    "5.68,4.27,7.49,8.44,5.18,7.17,9.24,7.81,4.59,7.76,9.08,5.94,7.43,7.86,8.04,9.22,10.08,7.14,6.91\n",
    "9.52,7.82,9.2,7.03,5.42,8.11,10.05,7.98,6.95,7.96,11.91,7.62,8.62,8.27,10.6,8.4,8.42,6.64,9.26,7.11\n",
    "6.37,4.42,10.31,8,6.49,6.19,11.17,7.11,6.61,6.8,10.71,4.62,4.43,9.38,7.78,11.34,7.7,5.83,7.56,7.22\n",
    "9.56,6.27,8.94,6.27,7.47,7.77,8.38,12.45,7.03,6.31,7.27,4.22,10.74,10.91,8.65,4.47,6.51,7.87,7.24\n",
    "6.68,10.56,8.7,7.95,5.97,6.92,9.67,9.36,7.95,8.1,8.64,10.11,4.42,10.99,9.62,6.21,7.18,7.74,10,7.28\n",
    "10.54,5.66,8.61,6.38,6.13,9.61,7.28,8.76,7.62,6.67,12.58,6.81,6.18,8.91,9.37,7.01,7.02,8.68,12.93\n",
    "7.08,4.74,8.64,7.72,5.59,7.73,9.99,6.93,6.36,7.38,8.87,7.5,7.72,9.12,11.32,7.84,8.34,6.26,9.04,6.25\n",
    "7.79,6.84,8.51,6.76,6.09,7.72,9.64,7.92,5.96,6.81,10.68,6.08,9.11,7.97,10,8.94,7.33,6.47,8.03,7.06"
   ]
  },
  {
   "cell_type": "code",
   "execution_count": 68,
   "metadata": {
    "collapsed": true
   },
   "outputs": [],
   "source": [
    "import numpy as np\n",
    "import scipy as sp\n",
    "import scipy.stats.mstats\n",
    "\n",
    "import sklearn.ensemble as ens\n",
    "import sklearn.metrics as ms\n",
    "import sklearn.neural_network as nn\n",
    "import sklearn.svm as svm\n",
    "\n",
    "from scipy.interpolate import UnivariateSpline\n",
    "from matplotlib import pyplot as plt\n",
    "import matplotlib.mlab as mlab"
   ]
  },
  {
   "cell_type": "markdown",
   "metadata": {},
   "source": [
    "#### Loading and shuffling the training data"
   ]
  },
  {
   "cell_type": "code",
   "execution_count": null,
   "metadata": {
    "collapsed": true
   },
   "outputs": [],
   "source": [
    "original = np.loadtxt('training.tsv', dtype=np.float32)\n",
    "original = original.transpose()"
   ]
  },
  {
   "cell_type": "code",
   "execution_count": null,
   "metadata": {
    "collapsed": true
   },
   "outputs": [],
   "source": [
    "data = np.copy(original)\n",
    "np.random.shuffle(data)"
   ]
  },
  {
   "cell_type": "markdown",
   "metadata": {},
   "source": [
    "#### Normalizing data by standard score"
   ]
  },
  {
   "cell_type": "code",
   "execution_count": null,
   "metadata": {
    "collapsed": true
   },
   "outputs": [],
   "source": [
    "data = np.apply_along_axis(lambda x: (x - np.mean(x)) / np.std(x), 0, data)"
   ]
  },
  {
   "cell_type": "markdown",
   "metadata": {},
   "source": [
    "#### Split data into train and test subsets"
   ]
  },
  {
   "cell_type": "code",
   "execution_count": 28,
   "metadata": {},
   "outputs": [
    {
     "name": "stdout",
     "output_type": "stream",
     "text": [
      "Train:(70000, 12320)\n",
      "Test: (30000, 12320)\n"
     ]
    }
   ],
   "source": [
    "thres = round(len(data) * 0.7)\n",
    "\n",
    "train = data[:thres]\n",
    "test = data[thres:]\n",
    "\n",
    "print(\"Train:\" + str(train.shape))\n",
    "print(\"Test: \" + str(test.shape))"
   ]
  },
  {
   "cell_type": "markdown",
   "metadata": {},
   "source": [
    "#### Drawing PDF of the most bad (residual sum of squares) gene distribution"
   ]
  },
  {
   "cell_type": "code",
   "execution_count": 121,
   "metadata": {},
   "outputs": [
    {
     "name": "stdout",
     "output_type": "stream",
     "text": [
      "0.208545635784\n"
     ]
    },
    {
     "data": {
      "image/png": "[encoded data removed]",
      "text/plain": [
       "<matplotlib.figure.Figure at 0x7f4b325cca20>"
      ]
     },
     "metadata": {},
     "output_type": "display_data"
    }
   ],
   "source": [
    "def makeF(sample):\n",
    "    n = len(sample) // 100\n",
    "    s = np.random.normal(size=len(sample))   # generate your data sample with N elements\n",
    "    p, x = np.histogram(s, bins=n) # bin it into n = N/10 bins\n",
    "    x = x[:-1] + (x[1] - x[0])/2   # convert bin edges to centers\n",
    "    f = UnivariateSpline(x, p, s=n)\n",
    "    k = 0.0\n",
    "    xs = np.linspace(-3, 3, 1000)\n",
    "    for y in xs:\n",
    "        k += (f(y) / mlab.normpdf(y, 0, 1))\n",
    "    k /= 1000\n",
    "    g = lambda x: f(x) / k\n",
    "    return g\n",
    "    \n",
    "def plotDensity(sample):\n",
    "    f = makeF(sample)\n",
    "    x = np.linspace(-3, 3, 1000)\n",
    "    plt.plot(x, f(x))\n",
    "    plt.plot(x,mlab.normpdf(x, 0, 1))\n",
    "    plt.show()\n",
    "\n",
    "def score(sample):\n",
    "    f = makeF(sample)\n",
    "    xs = np.linspace(-3, 3, 1000)\n",
    "    score = 0.0\n",
    "    for x in xs:\n",
    "        score += (f(x) - mlab.normpdf(x, 0, 1)) ** 2\n",
    "    return score\n",
    "\n",
    "bad = max(data[:1000], key=score)\n",
    "print(score(bad))\n",
    "plotDensity(bad)"
   ]
  },
  {
   "cell_type": "markdown",
   "metadata": {},
   "source": [
    "#### Preparing train and test data"
   ]
  },
  {
   "cell_type": "code",
   "execution_count": 29,
   "metadata": {},
   "outputs": [
    {
     "name": "stdout",
     "output_type": "stream",
     "text": [
      "Number of landmark genes: 970\n",
      "Number of non-landmark genes: 11350\n"
     ]
    }
   ],
   "source": [
    "landmark_genes = 970\n",
    "lset = list(range(landmark_genes))\n",
    "nlset = list(range(landmark_genes, data.shape[1]))\n",
    "print(\"Number of landmark genes: \" + str(len(lset)))\n",
    "print(\"Number of non-landmark genes: \" + str(len(nlset)))"
   ]
  },
  {
   "cell_type": "code",
   "execution_count": 30,
   "metadata": {},
   "outputs": [
    {
     "name": "stdout",
     "output_type": "stream",
     "text": [
      "Features shape: (70000, 970)\n",
      "Output shape(70000, 11350)\n"
     ]
    }
   ],
   "source": [
    "train = (train[:, lset], train[:, nlset])\n",
    "test = (test[:, lset], test[:, nlset])\n",
    "print(\"Features shape: \" + str(train[0].shape))\n",
    "print(\"Output shape\" + str(train[1].shape))"
   ]
  },
  {
   "cell_type": "markdown",
   "metadata": {},
   "source": [
    "### Running random forest algorithm"
   ]
  },
  {
   "cell_type": "code",
   "execution_count": 37,
   "metadata": {
    "collapsed": true
   },
   "outputs": [],
   "source": [
    "reg = ens.RandomForestRegressor(100, max_depth= 10, n_jobs=6, verbose=10)"
   ]
  },
  {
   "cell_type": "code",
   "execution_count": 38,
   "metadata": {},
   "outputs": [
    {
     "name": "stdout",
     "output_type": "stream",
     "text": [
      "building tree 1 of 100building tree 2 of 100building tree 4 of 100building tree 5 of 100building tree 3 of 100building tree 6 of 100\n",
      "\n",
      "\n",
      "\n",
      "\n",
      "\n",
      "building tree 7 of 100\n"
     ]
    },
    {
     "name": "stderr",
     "output_type": "stream",
     "text": [
      "[Parallel(n_jobs=6)]: Done   1 tasks      | elapsed:   37.4s\n"
     ]
    },
    {
     "name": "stdout",
     "output_type": "stream",
     "text": [
      "building tree 8 of 100\n",
      "building tree 9 of 100\n",
      "building tree 10 of 100\n",
      "building tree 11 of 100\n",
      "building tree 12 of 100\n"
     ]
    },
    {
     "name": "stderr",
     "output_type": "stream",
     "text": [
      "[Parallel(n_jobs=6)]: Done   6 tasks      | elapsed:   40.0s\n"
     ]
    },
    {
     "name": "stdout",
     "output_type": "stream",
     "text": [
      "building tree 13 of 100\n",
      "building tree 14 of 100\n",
      "building tree 15 of 100\n",
      "building tree 16 of 100\n",
      "building tree 17 of 100\n",
      "building tree 18 of 100\n",
      "building tree 19 of 100\n"
     ]
    },
    {
     "name": "stderr",
     "output_type": "stream",
     "text": [
      "[Parallel(n_jobs=6)]: Done  13 tasks      | elapsed:  1.9min\n"
     ]
    },
    {
     "name": "stdout",
     "output_type": "stream",
     "text": [
      "building tree 20 of 100\n",
      "building tree 21 of 100\n",
      "building tree 22 of 100\n",
      "building tree 23 of 100\n",
      "building tree 24 of 100\n",
      "building tree 25 of 100\n",
      "building tree 26 of 100\n"
     ]
    },
    {
     "name": "stderr",
     "output_type": "stream",
     "text": [
      "[Parallel(n_jobs=6)]: Done  20 tasks      | elapsed:  2.5min\n"
     ]
    },
    {
     "name": "stdout",
     "output_type": "stream",
     "text": [
      "building tree 27 of 100\n",
      "building tree 28 of 100\n",
      "building tree 29 of 100\n",
      "building tree 30 of 100\n",
      "building tree 31 of 100\n",
      "building tree 32 of 100\n",
      "building tree 33 of 100\n",
      "building tree 34 of 100\n",
      "building tree 35 of 100\n"
     ]
    },
    {
     "name": "stderr",
     "output_type": "stream",
     "text": [
      "[Parallel(n_jobs=6)]: Done  29 tasks      | elapsed:  3.2min\n"
     ]
    },
    {
     "name": "stdout",
     "output_type": "stream",
     "text": [
      "building tree 36 of 100\n",
      "building tree 37 of 100\n",
      "building tree 38 of 100\n",
      "building tree 39 of 100\n",
      "building tree 40 of 100\n",
      "building tree 41 of 100\n",
      "building tree 42 of 100\n",
      "building tree 43 of 100\n"
     ]
    },
    {
     "name": "stderr",
     "output_type": "stream",
     "text": [
      "[Parallel(n_jobs=6)]: Done  38 tasks      | elapsed:  4.5min\n"
     ]
    },
    {
     "name": "stdout",
     "output_type": "stream",
     "text": [
      "building tree 44 of 100\n",
      "building tree 45 of 100\n",
      "building tree 46 of 100\n",
      "building tree 47 of 100\n",
      "building tree 48 of 100\n",
      "building tree 49 of 100\n",
      "building tree 50 of 100\n",
      "building tree 51 of 100\n",
      "building tree 52 of 100\n",
      "building tree 53 of 100\n",
      "building tree 54 of 100\n"
     ]
    },
    {
     "name": "stderr",
     "output_type": "stream",
     "text": [
      "[Parallel(n_jobs=6)]: Done  49 tasks      | elapsed:  5.7min\n"
     ]
    },
    {
     "name": "stdout",
     "output_type": "stream",
     "text": [
      "building tree 55 of 100\n",
      "building tree 56 of 100\n",
      "building tree 57 of 100\n",
      "building tree 58 of 100\n",
      "building tree 59 of 100\n",
      "building tree 60 of 100\n",
      "building tree 61 of 100\n",
      "building tree 62 of 100\n",
      "building tree 63 of 100\n",
      "building tree 64 of 100\n",
      "building tree 65 of 100\n",
      "building tree 66 of 100\n"
     ]
    },
    {
     "name": "stderr",
     "output_type": "stream",
     "text": [
      "[Parallel(n_jobs=6)]: Done  60 tasks      | elapsed:  6.5min\n"
     ]
    },
    {
     "name": "stdout",
     "output_type": "stream",
     "text": [
      "building tree 67 of 100\n",
      "building tree 68 of 100\n",
      "building tree 69 of 100\n",
      "building tree 70 of 100\n",
      "building tree 71 of 100\n",
      "building tree 72 of 100\n",
      "building tree 73 of 100\n",
      "building tree 74 of 100\n",
      "building tree 75 of 100\n",
      "building tree 76 of 100\n",
      "building tree 77 of 100\n",
      "building tree 78 of 100\n",
      "building tree 79 of 100\n"
     ]
    },
    {
     "name": "stderr",
     "output_type": "stream",
     "text": [
      "[Parallel(n_jobs=6)]: Done  73 tasks      | elapsed:  8.3min\n"
     ]
    },
    {
     "name": "stdout",
     "output_type": "stream",
     "text": [
      "building tree 80 of 100\n",
      "building tree 81 of 100\n",
      "building tree 82 of 100\n",
      "building tree 83 of 100\n",
      "building tree 84 of 100\n",
      "building tree 85 of 100\n",
      "building tree 86 of 100\n",
      "building tree 87 of 100\n",
      "building tree 88 of 100\n",
      "building tree 89 of 100\n",
      "building tree 90 of 100\n",
      "building tree 91 of 100\n",
      "building tree 92 of 100\n"
     ]
    },
    {
     "name": "stderr",
     "output_type": "stream",
     "text": [
      "[Parallel(n_jobs=6)]: Done  86 tasks      | elapsed:  9.7min\n"
     ]
    },
    {
     "name": "stdout",
     "output_type": "stream",
     "text": [
      "building tree 93 of 100\n",
      "building tree 94 of 100\n",
      "building tree 95 of 100\n",
      "building tree 96 of 100\n",
      "building tree 97 of 100\n",
      "building tree 98 of 100\n",
      "building tree 99 of 100\n",
      "building tree 100 of 100\n"
     ]
    },
    {
     "name": "stderr",
     "output_type": "stream",
     "text": [
      "[Parallel(n_jobs=6)]: Done 100 out of 100 | elapsed: 10.9min remaining:    0.0s\n",
      "[Parallel(n_jobs=6)]: Done 100 out of 100 | elapsed: 10.9min finished\n"
     ]
    },
    {
     "data": {
      "text/plain": [
       "RandomForestRegressor(bootstrap=True, criterion='mse', max_depth=10,\n",
       "           max_features='auto', max_leaf_nodes=None,\n",
       "           min_impurity_split=1e-07, min_samples_leaf=1,\n",
       "           min_samples_split=2, min_weight_fraction_leaf=0.0,\n",
       "           n_estimators=100, n_jobs=6, oob_score=False, random_state=None,\n",
       "           verbose=10, warm_start=False)"
      ]
     },
     "execution_count": 38,
     "metadata": {},
     "output_type": "execute_result"
    }
   ],
   "source": [
    "reg.fit(train[0], train[1][:, 0])"
   ]
  },
  {
   "cell_type": "code",
   "execution_count": 53,
   "metadata": {},
   "outputs": [
    {
     "name": "stderr",
     "output_type": "stream",
     "text": [
      "[Parallel(n_jobs=6)]: Done   1 tasks      | elapsed:    0.0s\n",
      "[Parallel(n_jobs=6)]: Done   6 tasks      | elapsed:    0.0s\n",
      "[Parallel(n_jobs=6)]: Done  13 tasks      | elapsed:    0.0s\n",
      "[Parallel(n_jobs=6)]: Done  20 tasks      | elapsed:    0.1s\n",
      "[Parallel(n_jobs=6)]: Done  29 tasks      | elapsed:    0.1s\n",
      "[Parallel(n_jobs=6)]: Done  38 tasks      | elapsed:    0.1s\n",
      "[Parallel(n_jobs=6)]: Done  49 tasks      | elapsed:    0.1s\n",
      "[Parallel(n_jobs=6)]: Done  60 tasks      | elapsed:    0.1s\n",
      "[Parallel(n_jobs=6)]: Done  73 tasks      | elapsed:    0.2s\n",
      "[Parallel(n_jobs=6)]: Done  86 tasks      | elapsed:    0.2s\n",
      "[Parallel(n_jobs=6)]: Done 100 out of 100 | elapsed:    0.2s remaining:    0.0s\n",
      "[Parallel(n_jobs=6)]: Done 100 out of 100 | elapsed:    0.2s finished\n"
     ]
    },
    {
     "name": "stdout",
     "output_type": "stream",
     "text": [
      "Test: 0.255106343803\n"
     ]
    },
    {
     "name": "stderr",
     "output_type": "stream",
     "text": [
      "[Parallel(n_jobs=6)]: Done   1 tasks      | elapsed:    0.0s\n",
      "[Parallel(n_jobs=6)]: Done   6 tasks      | elapsed:    0.0s\n",
      "[Parallel(n_jobs=6)]: Done  13 tasks      | elapsed:    0.1s\n",
      "[Parallel(n_jobs=6)]: Done  20 tasks      | elapsed:    0.1s\n",
      "[Parallel(n_jobs=6)]: Done  29 tasks      | elapsed:    0.1s\n",
      "[Parallel(n_jobs=6)]: Done  38 tasks      | elapsed:    0.2s\n",
      "[Parallel(n_jobs=6)]: Done  49 tasks      | elapsed:    0.2s\n",
      "[Parallel(n_jobs=6)]: Done  60 tasks      | elapsed:    0.3s\n",
      "[Parallel(n_jobs=6)]: Done  73 tasks      | elapsed:    0.4s\n",
      "[Parallel(n_jobs=6)]: Done  86 tasks      | elapsed:    0.4s\n"
     ]
    },
    {
     "name": "stdout",
     "output_type": "stream",
     "text": [
      "Train: 0.188591014594\n"
     ]
    },
    {
     "name": "stderr",
     "output_type": "stream",
     "text": [
      "[Parallel(n_jobs=6)]: Done 100 out of 100 | elapsed:    0.5s remaining:    0.0s\n",
      "[Parallel(n_jobs=6)]: Done 100 out of 100 | elapsed:    0.5s finished\n"
     ]
    }
   ],
   "source": [
    "print(\"Test: \" + str(ms.mean_squared_error(reg.predict(test[0]), test[1][:, 0])))\n",
    "print(\"Train: \" + str(ms.mean_squared_error(reg.predict(train[0]), train[1][:, 0])))"
   ]
  },
  {
   "cell_type": "markdown",
   "metadata": {},
   "source": [
    "### Runnning  Multi-layer Perceptron with two hidden layers."
   ]
  },
  {
   "cell_type": "code",
   "execution_count": 49,
   "metadata": {
    "collapsed": true
   },
   "outputs": [],
   "source": [
    "mlp = nn.MLPRegressor((500, 500), verbose=True)"
   ]
  },
  {
   "cell_type": "code",
   "execution_count": 50,
   "metadata": {},
   "outputs": [
    {
     "name": "stdout",
     "output_type": "stream",
     "text": [
      "Iteration 1, loss = 0.15734467\n",
      "Iteration 2, loss = 0.09699614\n",
      "Iteration 3, loss = 0.08017809\n",
      "Iteration 4, loss = 0.07036193\n",
      "Iteration 5, loss = 0.06462790\n",
      "Iteration 6, loss = 0.06062630\n",
      "Iteration 7, loss = 0.05451479\n",
      "Iteration 8, loss = 0.05125728\n",
      "Iteration 9, loss = 0.04744551\n",
      "Iteration 10, loss = 0.04417707\n",
      "Iteration 11, loss = 0.04312625\n",
      "Iteration 12, loss = 0.04070614\n",
      "Iteration 13, loss = 0.03834889\n",
      "Iteration 14, loss = 0.03652559\n",
      "Iteration 15, loss = 0.03644094\n",
      "Iteration 16, loss = 0.03366137\n",
      "Iteration 17, loss = 0.03347860\n",
      "Iteration 18, loss = 0.03187227\n",
      "Iteration 19, loss = 0.02999984\n",
      "Iteration 20, loss = 0.03001545\n",
      "Iteration 21, loss = 0.02880777\n",
      "Iteration 22, loss = 0.02720759\n",
      "Iteration 23, loss = 0.02723549\n",
      "Iteration 24, loss = 0.02547442\n",
      "Iteration 25, loss = 0.02468821\n",
      "Iteration 26, loss = 0.02442430\n",
      "Iteration 27, loss = 0.02555776\n",
      "Iteration 28, loss = 0.02372905\n",
      "Iteration 29, loss = 0.02193370\n",
      "Iteration 30, loss = 0.02174861\n",
      "Iteration 31, loss = 0.02078453\n",
      "Iteration 32, loss = 0.02004235\n",
      "Iteration 33, loss = 0.02036135\n",
      "Iteration 34, loss = 0.02045366\n",
      "Iteration 35, loss = 0.01990832\n",
      "Iteration 36, loss = 0.01894069\n",
      "Iteration 37, loss = 0.01881651\n",
      "Iteration 38, loss = 0.01900313\n",
      "Iteration 39, loss = 0.01888208\n",
      "Iteration 40, loss = 0.01780043\n",
      "Iteration 41, loss = 0.01720286\n",
      "Iteration 42, loss = 0.01675797\n",
      "Iteration 43, loss = 0.01703995\n",
      "Iteration 44, loss = 0.01658172\n",
      "Iteration 45, loss = 0.01641586\n",
      "Iteration 46, loss = 0.01607851\n",
      "Iteration 47, loss = 0.01515433\n",
      "Iteration 48, loss = 0.01474864\n",
      "Iteration 49, loss = 0.01505684\n",
      "Iteration 50, loss = 0.01562435\n",
      "Iteration 51, loss = 0.01589572\n",
      "Training loss did not improve more than tol=0.000100 for two consecutive epochs. Stopping.\n"
     ]
    },
    {
     "data": {
      "text/plain": [
       "MLPRegressor(activation='relu', alpha=0.0001, batch_size='auto', beta_1=0.9,\n",
       "       beta_2=0.999, early_stopping=False, epsilon=1e-08,\n",
       "       hidden_layer_sizes=(500, 500), learning_rate='constant',\n",
       "       learning_rate_init=0.001, max_iter=200, momentum=0.9,\n",
       "       nesterovs_momentum=True, power_t=0.5, random_state=None,\n",
       "       shuffle=True, solver='adam', tol=0.0001, validation_fraction=0.1,\n",
       "       verbose=True, warm_start=False)"
      ]
     },
     "execution_count": 50,
     "metadata": {},
     "output_type": "execute_result"
    }
   ],
   "source": [
    "mlp.fit(train[0], train[1][:, 0])"
   ]
  },
  {
   "cell_type": "code",
   "execution_count": 52,
   "metadata": {},
   "outputs": [
    {
     "name": "stdout",
     "output_type": "stream",
     "text": [
      "Test: 0.182695103441\n",
      "Train: 0.0263513249707\n"
     ]
    }
   ],
   "source": [
    "print(\"Test: \" + str(ms.mean_squared_error(mlp.predict(test[0]), test[1][:, 0])))\n",
    "print(\"Train: \" + str(ms.mean_squared_error(mlp.predict(train[0]), train[1][:, 0])))"
   ]
  },
  {
   "cell_type": "markdown",
   "metadata": {},
   "source": [
    "### Running Support Vector Machine"
   ]
  },
  {
   "cell_type": "code",
   "execution_count": 46,
   "metadata": {
    "collapsed": true
   },
   "outputs": [],
   "source": [
    "svr = svm.SVR(verbose=True)"
   ]
  },
  {
   "cell_type": "code",
   "execution_count": 47,
   "metadata": {},
   "outputs": [
    {
     "name": "stdout",
     "output_type": "stream",
     "text": [
      "[LibSVM]"
     ]
    },
    {
     "data": {
      "text/plain": [
       "SVR(C=1.0, cache_size=200, coef0=0.0, degree=3, epsilon=0.1, gamma='auto',\n",
       "  kernel='rbf', max_iter=-1, shrinking=True, tol=0.001, verbose=True)"
      ]
     },
     "execution_count": 47,
     "metadata": {},
     "output_type": "execute_result"
    }
   ],
   "source": [
    "svr.fit(train[0], train[1][:, 0])"
   ]
  },
  {
   "cell_type": "code",
   "execution_count": 54,
   "metadata": {},
   "outputs": [
    {
     "name": "stdout",
     "output_type": "stream",
     "text": [
      "Test: 0.197507087844\n",
      "Train: 0.113986677183\n"
     ]
    }
   ],
   "source": [
    "print(\"Test: \" + str(ms.mean_squared_error(svr.predict(test[0]), test[1][:, 0])))\n",
    "print(\"Train: \" + str(ms.mean_squared_error(svr.predict(train[0]), train[1][:, 0])))"
   ]
  },
  {
   "cell_type": "markdown",
   "metadata": {},
   "source": [
    "### Conclusion:\n",
    "* MLP shows best scores among three methods.\n",
    "* Even test score of MLP method shows better results than train score of Random Forest algorithm.\n",
    "* MLP is overfitted on train data."
   ]
  }
 ],
 "metadata": {
  "kernelspec": {
   "display_name": "Python 3",
   "language": "python",
   "name": "python3"
  },
  "language_info": {
   "codemirror_mode": {
    "name": "ipython",
    "version": 3
   },
   "file_extension": ".py",
   "mimetype": "text/x-python",
   "name": "python",
   "nbconvert_exporter": "python",
   "pygments_lexer": "ipython3",
   "version": "3.5.2"
  }
 },
 "nbformat": 4,
 "nbformat_minor": 2
}
